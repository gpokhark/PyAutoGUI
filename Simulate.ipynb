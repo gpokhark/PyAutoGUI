{
 "cells": [
  {
   "cell_type": "code",
   "execution_count": null,
   "metadata": {},
   "outputs": [],
   "source": [
    "# mouse in square pattern\n",
    "# alt + tab two times\n",
    "\n",
    "import pyautogui\n",
    "pyautogui.PAUSE = 1\n",
    "pyautogui.FAILSAFE = True\n",
    "width, height = pyautogui.size()\n",
    "print(\"Width = {}\\n\".format(width))\n",
    "print(\"Height = {}\\n\".format(height))\n",
    "while(True):\n",
    "    pyautogui.moveTo(100, 100, duration = 1.00)\n",
    "    pyautogui.moveTo(200, 100, duration = 1.00)\n",
    "    pyautogui.moveTo(200, 200, duration = 1.00)\n",
    "    pyautogui.moveTo(100, 200, duration = 1.00)\n",
    "    pyautogui.hotkey('alt', 'tab')\n",
    "    pyautogui.hotkey('alt', 'tab')"
   ]
  },
  {
   "cell_type": "code",
   "execution_count": 1,
   "metadata": {},
   "outputs": [
    {
     "name": "stdout",
     "output_type": "stream",
     "text": [
      "Width = 3840\n",
      "\n",
      "Height = 1080\n",
      "\n"
     ]
    },
    {
     "ename": "FailSafeException",
     "evalue": "PyAutoGUI fail-safe triggered from mouse moving to a corner of the screen. To disable this fail-safe, set pyautogui.FAILSAFE to False. DISABLING FAIL-SAFE IS NOT RECOMMENDED.",
     "output_type": "error",
     "traceback": [
      "\u001b[0;31m---------------------------------------------------------------------------\u001b[0m",
      "\u001b[0;31mFailSafeException\u001b[0m                         Traceback (most recent call last)",
      "\u001b[0;32m<ipython-input-1-69f7ce96729e>\u001b[0m in \u001b[0;36m<module>\u001b[0;34m\u001b[0m\n\u001b[1;32m      9\u001b[0m \u001b[0;32mwhile\u001b[0m\u001b[0;34m(\u001b[0m\u001b[0;32mTrue\u001b[0m\u001b[0;34m)\u001b[0m\u001b[0;34m:\u001b[0m\u001b[0;34m\u001b[0m\u001b[0;34m\u001b[0m\u001b[0m\n\u001b[1;32m     10\u001b[0m     \u001b[0mpyautogui\u001b[0m\u001b[0;34m.\u001b[0m\u001b[0mmoveTo\u001b[0m\u001b[0;34m(\u001b[0m\u001b[0;36m100\u001b[0m\u001b[0;34m,\u001b[0m \u001b[0;36m100\u001b[0m\u001b[0;34m,\u001b[0m \u001b[0mduration\u001b[0m \u001b[0;34m=\u001b[0m \u001b[0;36m1.00\u001b[0m\u001b[0;34m)\u001b[0m\u001b[0;34m\u001b[0m\u001b[0;34m\u001b[0m\u001b[0m\n\u001b[0;32m---> 11\u001b[0;31m     \u001b[0mpyautogui\u001b[0m\u001b[0;34m.\u001b[0m\u001b[0mmoveTo\u001b[0m\u001b[0;34m(\u001b[0m\u001b[0;36m200\u001b[0m\u001b[0;34m,\u001b[0m \u001b[0;36m100\u001b[0m\u001b[0;34m,\u001b[0m \u001b[0mduration\u001b[0m \u001b[0;34m=\u001b[0m \u001b[0;36m1.00\u001b[0m\u001b[0;34m)\u001b[0m\u001b[0;34m\u001b[0m\u001b[0;34m\u001b[0m\u001b[0m\n\u001b[0m\u001b[1;32m     12\u001b[0m     \u001b[0mpyautogui\u001b[0m\u001b[0;34m.\u001b[0m\u001b[0mmoveTo\u001b[0m\u001b[0;34m(\u001b[0m\u001b[0;36m200\u001b[0m\u001b[0;34m,\u001b[0m \u001b[0;36m200\u001b[0m\u001b[0;34m,\u001b[0m \u001b[0mduration\u001b[0m \u001b[0;34m=\u001b[0m \u001b[0;36m1.00\u001b[0m\u001b[0;34m)\u001b[0m\u001b[0;34m\u001b[0m\u001b[0;34m\u001b[0m\u001b[0m\n\u001b[1;32m     13\u001b[0m     \u001b[0mpyautogui\u001b[0m\u001b[0;34m.\u001b[0m\u001b[0mmoveTo\u001b[0m\u001b[0;34m(\u001b[0m\u001b[0;36m100\u001b[0m\u001b[0;34m,\u001b[0m \u001b[0;36m200\u001b[0m\u001b[0;34m,\u001b[0m \u001b[0mduration\u001b[0m \u001b[0;34m=\u001b[0m \u001b[0;36m1.00\u001b[0m\u001b[0;34m)\u001b[0m\u001b[0;34m\u001b[0m\u001b[0;34m\u001b[0m\u001b[0m\n",
      "\u001b[0;32m~/anaconda3/envs/py3/lib/python3.7/site-packages/pyautogui/__init__.py\u001b[0m in \u001b[0;36mmoveTo\u001b[0;34m(x, y, duration, tween, pause, logScreenshot, _pause)\u001b[0m\n\u001b[1;32m    833\u001b[0m \u001b[0;34m\u001b[0m\u001b[0m\n\u001b[1;32m    834\u001b[0m     \u001b[0m_logScreenshot\u001b[0m\u001b[0;34m(\u001b[0m\u001b[0mlogScreenshot\u001b[0m\u001b[0;34m,\u001b[0m \u001b[0;34m'moveTo'\u001b[0m\u001b[0;34m,\u001b[0m \u001b[0;34m'%s,%s'\u001b[0m \u001b[0;34m%\u001b[0m \u001b[0;34m(\u001b[0m\u001b[0mx\u001b[0m\u001b[0;34m,\u001b[0m \u001b[0my\u001b[0m\u001b[0;34m)\u001b[0m\u001b[0;34m,\u001b[0m \u001b[0mfolder\u001b[0m\u001b[0;34m=\u001b[0m\u001b[0;34m'.'\u001b[0m\u001b[0;34m)\u001b[0m\u001b[0;34m\u001b[0m\u001b[0;34m\u001b[0m\u001b[0m\n\u001b[0;32m--> 835\u001b[0;31m     \u001b[0m_mouseMoveDrag\u001b[0m\u001b[0;34m(\u001b[0m\u001b[0;34m'move'\u001b[0m\u001b[0;34m,\u001b[0m \u001b[0mx\u001b[0m\u001b[0;34m,\u001b[0m \u001b[0my\u001b[0m\u001b[0;34m,\u001b[0m \u001b[0;36m0\u001b[0m\u001b[0;34m,\u001b[0m \u001b[0;36m0\u001b[0m\u001b[0;34m,\u001b[0m \u001b[0mduration\u001b[0m\u001b[0;34m,\u001b[0m \u001b[0mtween\u001b[0m\u001b[0;34m)\u001b[0m\u001b[0;34m\u001b[0m\u001b[0;34m\u001b[0m\u001b[0m\n\u001b[0m\u001b[1;32m    836\u001b[0m \u001b[0;34m\u001b[0m\u001b[0m\n\u001b[1;32m    837\u001b[0m     \u001b[0m_autoPause\u001b[0m\u001b[0;34m(\u001b[0m\u001b[0mpause\u001b[0m\u001b[0;34m,\u001b[0m \u001b[0m_pause\u001b[0m\u001b[0;34m)\u001b[0m\u001b[0;34m\u001b[0m\u001b[0;34m\u001b[0m\u001b[0m\n",
      "\u001b[0;32m~/anaconda3/envs/py3/lib/python3.7/site-packages/pyautogui/__init__.py\u001b[0m in \u001b[0;36m_mouseMoveDrag\u001b[0;34m(moveOrDrag, x, y, xOffset, yOffset, duration, tween, button)\u001b[0m\n\u001b[1;32m   1066\u001b[0m         \u001b[0;31m# decide if it should raise the fail-safe exception.\u001b[0m\u001b[0;34m\u001b[0m\u001b[0;34m\u001b[0m\u001b[0;34m\u001b[0m\u001b[0m\n\u001b[1;32m   1067\u001b[0m         \u001b[0;32mif\u001b[0m \u001b[0;34m(\u001b[0m\u001b[0mtweenX\u001b[0m\u001b[0;34m,\u001b[0m \u001b[0mtweenY\u001b[0m\u001b[0;34m)\u001b[0m \u001b[0;32mnot\u001b[0m \u001b[0;32min\u001b[0m \u001b[0mFAILSAFE_POINTS\u001b[0m\u001b[0;34m:\u001b[0m\u001b[0;34m\u001b[0m\u001b[0;34m\u001b[0m\u001b[0m\n\u001b[0;32m-> 1068\u001b[0;31m             \u001b[0mfailSafeCheck\u001b[0m\u001b[0;34m(\u001b[0m\u001b[0;34m)\u001b[0m\u001b[0;34m\u001b[0m\u001b[0;34m\u001b[0m\u001b[0m\n\u001b[0m\u001b[1;32m   1069\u001b[0m \u001b[0;34m\u001b[0m\u001b[0m\n\u001b[1;32m   1070\u001b[0m         \u001b[0;32mif\u001b[0m \u001b[0mmoveOrDrag\u001b[0m \u001b[0;34m==\u001b[0m \u001b[0;34m'move'\u001b[0m\u001b[0;34m:\u001b[0m\u001b[0;34m\u001b[0m\u001b[0;34m\u001b[0m\u001b[0m\n",
      "\u001b[0;32m~/anaconda3/envs/py3/lib/python3.7/site-packages/pyautogui/__init__.py\u001b[0m in \u001b[0;36mfailSafeCheck\u001b[0;34m()\u001b[0m\n\u001b[1;32m   1255\u001b[0m \u001b[0;32mdef\u001b[0m \u001b[0mfailSafeCheck\u001b[0m\u001b[0;34m(\u001b[0m\u001b[0;34m)\u001b[0m\u001b[0;34m:\u001b[0m\u001b[0;34m\u001b[0m\u001b[0;34m\u001b[0m\u001b[0m\n\u001b[1;32m   1256\u001b[0m     \u001b[0;32mif\u001b[0m \u001b[0mFAILSAFE\u001b[0m \u001b[0;32mand\u001b[0m \u001b[0mtuple\u001b[0m\u001b[0;34m(\u001b[0m\u001b[0mposition\u001b[0m\u001b[0;34m(\u001b[0m\u001b[0;34m)\u001b[0m\u001b[0;34m)\u001b[0m \u001b[0;32min\u001b[0m \u001b[0mFAILSAFE_POINTS\u001b[0m\u001b[0;34m:\u001b[0m\u001b[0;34m\u001b[0m\u001b[0;34m\u001b[0m\u001b[0m\n\u001b[0;32m-> 1257\u001b[0;31m         \u001b[0;32mraise\u001b[0m \u001b[0mFailSafeException\u001b[0m\u001b[0;34m(\u001b[0m\u001b[0;34m'PyAutoGUI fail-safe triggered from mouse moving to a corner of the screen. To disable this fail-safe, set pyautogui.FAILSAFE to False. DISABLING FAIL-SAFE IS NOT RECOMMENDED.'\u001b[0m\u001b[0;34m)\u001b[0m\u001b[0;34m\u001b[0m\u001b[0;34m\u001b[0m\u001b[0m\n\u001b[0m\u001b[1;32m   1258\u001b[0m \u001b[0;34m\u001b[0m\u001b[0m\n\u001b[1;32m   1259\u001b[0m \u001b[0;34m\u001b[0m\u001b[0m\n",
      "\u001b[0;31mFailSafeException\u001b[0m: PyAutoGUI fail-safe triggered from mouse moving to a corner of the screen. To disable this fail-safe, set pyautogui.FAILSAFE to False. DISABLING FAIL-SAFE IS NOT RECOMMENDED."
     ]
    }
   ],
   "source": [
    "# mouse in square pattern and later Alt+1, F5 in chrome\n",
    "# assuming this is the 5th TAB\n",
    "\n",
    "import pyautogui\n",
    "pyautogui.PAUSE = 1\n",
    "pyautogui.FAILSAFE = True\n",
    "width, height = pyautogui.size()\n",
    "print(\"Width = {}\\n\".format(width))\n",
    "print(\"Height = {}\\n\".format(height))\n",
    "while(True):\n",
    "    pyautogui.moveTo(100, 100, duration = 1.00)\n",
    "    pyautogui.moveTo(200, 100, duration = 1.00)\n",
    "    pyautogui.moveTo(200, 200, duration = 1.00)\n",
    "    pyautogui.moveTo(100, 200, duration = 1.00)\n",
    "    pyautogui.hotkey('ctrl', '1')\n",
    "    pyautogui.press('f5')\n",
    "    pyautogui.hotkey('ctrl', '2')\n",
    "    pyautogui.press('f5')\n",
    "    pyautogui.hotkey('ctrl', '3')\n",
    "    pyautogui.press('f5')\n",
    "    pyautogui.hotkey('ctrl', '4')\n",
    "    pyautogui.press('f5')\n",
    "    pyautogui.hotkey('ctrl', '5')"
   ]
  }
 ],
 "metadata": {
  "kernelspec": {
   "display_name": "Python 3",
   "language": "python",
   "name": "python3"
  },
  "language_info": {
   "codemirror_mode": {
    "name": "ipython",
    "version": 3
   },
   "file_extension": ".py",
   "mimetype": "text/x-python",
   "name": "python",
   "nbconvert_exporter": "python",
   "pygments_lexer": "ipython3",
   "version": "3.7.3"
  }
 },
 "nbformat": 4,
 "nbformat_minor": 2
}
